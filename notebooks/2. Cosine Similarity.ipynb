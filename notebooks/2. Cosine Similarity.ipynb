{
 "cells": [
  {
   "cell_type": "markdown",
   "metadata": {},
   "source": [
    "## Article Collection and Volume Reduction Pipeline \n",
    "1. Find efficient keywords with word embeddings (gensim)\n",
    "2. **Remove duplicitous articles with cosine similarity on TFIDF vectors** (scikit-learn)\n",
    "3. Remove duplicitous articles with entity extraction and jaccard similarity (spacy)\n",
    "4. Classify relevant articles (scikit-learn)"
   ]
  },
  {
   "cell_type": "markdown",
   "metadata": {},
   "source": [
    "## Summary\n",
    "Using the article title, we calculate the cosine similarity between each pair of article titles. In practice, for each pair of articles, if their similarity is above a threshold, we remove one."
   ]
  },
  {
   "cell_type": "code",
   "execution_count": 1,
   "metadata": {},
   "outputs": [],
   "source": [
    "import pandas as pd\n",
    "from sklearn.feature_extraction.text import TfidfVectorizer\n",
    "import numpy as np"
   ]
  },
  {
   "cell_type": "code",
   "execution_count": 2,
   "metadata": {},
   "outputs": [],
   "source": [
    "data = (pd\n",
    "        .read_csv('../data/nyt_ftpg_1996_2006_no_text.csv', engine='python', usecols=['Article_ID', 'Title'])\n",
    "        .assign(title_length=lambda x: x['Title'].apply(len)))"
   ]
  },
  {
   "cell_type": "code",
   "execution_count": 3,
   "metadata": {},
   "outputs": [
    {
     "data": {
      "text/html": [
       "<div>\n",
       "<style scoped>\n",
       "    .dataframe tbody tr th:only-of-type {\n",
       "        vertical-align: middle;\n",
       "    }\n",
       "\n",
       "    .dataframe tbody tr th {\n",
       "        vertical-align: top;\n",
       "    }\n",
       "\n",
       "    .dataframe thead th {\n",
       "        text-align: right;\n",
       "    }\n",
       "</style>\n",
       "<table border=\"1\" class=\"dataframe\">\n",
       "  <thead>\n",
       "    <tr style=\"text-align: right;\">\n",
       "      <th></th>\n",
       "      <th>Article_ID</th>\n",
       "      <th>Title</th>\n",
       "      <th>title_length</th>\n",
       "    </tr>\n",
       "  </thead>\n",
       "  <tbody>\n",
       "    <tr>\n",
       "      <th>0</th>\n",
       "      <td>1</td>\n",
       "      <td>Nation's Smaller Jails Struggle To Cope With S...</td>\n",
       "      <td>62</td>\n",
       "    </tr>\n",
       "    <tr>\n",
       "      <th>1</th>\n",
       "      <td>2</td>\n",
       "      <td>Dancing (and Kissing) In the New Year</td>\n",
       "      <td>38</td>\n",
       "    </tr>\n",
       "    <tr>\n",
       "      <th>2</th>\n",
       "      <td>3</td>\n",
       "      <td>Forbes's Silver Bullet for the Nation's Malaise</td>\n",
       "      <td>48</td>\n",
       "    </tr>\n",
       "    <tr>\n",
       "      <th>3</th>\n",
       "      <td>4</td>\n",
       "      <td>Up at Last, Bridge to Bosnia Is Swaying Gatewa...</td>\n",
       "      <td>59</td>\n",
       "    </tr>\n",
       "    <tr>\n",
       "      <th>4</th>\n",
       "      <td>5</td>\n",
       "      <td>2 SIDES IN SENATE DISAGREE ON PLAN TO END FURL...</td>\n",
       "      <td>52</td>\n",
       "    </tr>\n",
       "  </tbody>\n",
       "</table>\n",
       "</div>"
      ],
      "text/plain": [
       "   Article_ID                                              Title  title_length\n",
       "0           1  Nation's Smaller Jails Struggle To Cope With S...            62\n",
       "1           2             Dancing (and Kissing) In the New Year             38\n",
       "2           3   Forbes's Silver Bullet for the Nation's Malaise             48\n",
       "3           4  Up at Last, Bridge to Bosnia Is Swaying Gatewa...            59\n",
       "4           5  2 SIDES IN SENATE DISAGREE ON PLAN TO END FURL...            52"
      ]
     },
     "execution_count": 3,
     "metadata": {},
     "output_type": "execute_result"
    }
   ],
   "source": [
    "data.head()"
   ]
  },
  {
   "cell_type": "code",
   "execution_count": 4,
   "metadata": {},
   "outputs": [],
   "source": [
    "data_titles = data[data['title_length'] > 41]"
   ]
  },
  {
   "cell_type": "code",
   "execution_count": 5,
   "metadata": {},
   "outputs": [],
   "source": [
    "tfidf = TfidfVectorizer(stop_words='english', min_df=2)\n",
    "tfidf_array = tfidf.fit_transform(data_titles['Title']).todense()"
   ]
  },
  {
   "cell_type": "code",
   "execution_count": 6,
   "metadata": {},
   "outputs": [
    {
     "name": "stdout",
     "output_type": "stream",
     "text": [
      "CPU times: user 6min 27s, sys: 10.6 s, total: 6min 38s\n",
      "Wall time: 1min 43s\n",
      "(22333, 22333)\n"
     ]
    }
   ],
   "source": [
    "%time cosine_similarity = tfidf_array * tfidf_array.T\n",
    "print(cosine_similarity.shape)"
   ]
  },
  {
   "cell_type": "code",
   "execution_count": 7,
   "metadata": {},
   "outputs": [],
   "source": [
    "# every document is an exact match with itself\n",
    "cosine_similarity[np.diag_indices(len(data_titles))] = 0"
   ]
  },
  {
   "cell_type": "code",
   "execution_count": 8,
   "metadata": {},
   "outputs": [],
   "source": [
    "similarities = pd.DataFrame(cosine_similarity, index=data_titles.index)"
   ]
  },
  {
   "cell_type": "code",
   "execution_count": 9,
   "metadata": {},
   "outputs": [
    {
     "name": "stdout",
     "output_type": "stream",
     "text": [
      "Ref:\tNation's Smaller Jails Struggle To Cope With Surge in Inmates \t\n",
      "\n",
      "0.33\tSmaller Bookstores End Court Struggle Against Two Chains\n",
      "0.29\tAs Parents Age, Baby Boomers And Business Struggle to Cope\n",
      "0.29\tNew York Hospitals Struggle With Flu Surge\n",
      "0.28\t Issue in China: Many in Jails Without Trial\n",
      "0.26\tAmerican Jails In Iraq Bursting With Detainees\n"
     ]
    }
   ],
   "source": [
    "reference_document_index = 0\n",
    "print(\"Ref:\", data_titles.loc[reference_document_index, 'Title'], \"\\n\", sep=\"\\t\")\n",
    "\n",
    "most_similar_indices = similarities[reference_document_index].sort_values(ascending=False).head()\n",
    "for index, value in most_similar_indices.iteritems():\n",
    "    print(round(value, 2), data_titles.loc[index, 'Title'], sep=\"\\t\")"
   ]
  },
  {
   "cell_type": "code",
   "execution_count": null,
   "metadata": {},
   "outputs": [],
   "source": []
  }
 ],
 "metadata": {
  "kernelspec": {
   "display_name": "Python 3",
   "language": "python",
   "name": "python3"
  },
  "language_info": {
   "codemirror_mode": {
    "name": "ipython",
    "version": 3
   },
   "file_extension": ".py",
   "mimetype": "text/x-python",
   "name": "python",
   "nbconvert_exporter": "python",
   "pygments_lexer": "ipython3",
   "version": "3.6.4"
  }
 },
 "nbformat": 4,
 "nbformat_minor": 2
}
