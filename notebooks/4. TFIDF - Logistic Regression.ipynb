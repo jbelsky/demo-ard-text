{
 "cells": [
  {
   "cell_type": "markdown",
   "metadata": {},
   "source": [
    "## Article Collection and Volume Reduction Pipeline \n",
    "1. Find efficient keywords with word embeddings (gensim)\n",
    "2. Remove duplicitous articles with cosine similarity on TFIDF vectors (scikit-learn)\n",
    "3. Remove duplicitous articles with entity extraction and jaccard similarity (spacy)\n",
    "4. **Classify relevant articles** (scikit-learn)"
   ]
  },
  {
   "cell_type": "markdown",
   "metadata": {},
   "source": [
    "## Summary\n",
    "Using the article title and summary, we use a TFIDF matrix as features in a logistic regression to predict whether an article is about the war on terror. In practice, we fine tune a cutoff threshold to improve recall on a validation dataset."
   ]
  },
  {
   "cell_type": "code",
   "execution_count": 1,
   "metadata": {},
   "outputs": [],
   "source": [
    "import pandas as pd\n",
    "from sklearn.feature_extraction.text import TfidfVectorizer\n",
    "from sklearn.linear_model import LogisticRegressionCV\n",
    "from sklearn.model_selection import train_test_split\n",
    "from sklearn.metrics import classification_report\n",
    "import numpy as np\n",
    "import spacy"
   ]
  },
  {
   "cell_type": "code",
   "execution_count": 2,
   "metadata": {},
   "outputs": [],
   "source": [
    "usecols = ['Article_ID', 'Title', 'Summary', 'War on Terror']\n",
    "data = (pd\n",
    "        .read_csv('../data/nyt_ftpg_1996_2006_no_text.csv', engine='python', usecols=usecols)\n",
    "        .assign(text=lambda x: x['Title'] + ' ' + x['Summary'])\n",
    "    )"
   ]
  },
  {
   "cell_type": "code",
   "execution_count": 3,
   "metadata": {},
   "outputs": [
    {
     "data": {
      "text/html": [
       "<div>\n",
       "<style scoped>\n",
       "    .dataframe tbody tr th:only-of-type {\n",
       "        vertical-align: middle;\n",
       "    }\n",
       "\n",
       "    .dataframe tbody tr th {\n",
       "        vertical-align: top;\n",
       "    }\n",
       "\n",
       "    .dataframe thead th {\n",
       "        text-align: right;\n",
       "    }\n",
       "</style>\n",
       "<table border=\"1\" class=\"dataframe\">\n",
       "  <thead>\n",
       "    <tr style=\"text-align: right;\">\n",
       "      <th></th>\n",
       "      <th>Article_ID</th>\n",
       "      <th>Title</th>\n",
       "      <th>Summary</th>\n",
       "      <th>War on Terror</th>\n",
       "      <th>text</th>\n",
       "    </tr>\n",
       "  </thead>\n",
       "  <tbody>\n",
       "    <tr>\n",
       "      <th>0</th>\n",
       "      <td>1</td>\n",
       "      <td>Nation's Smaller Jails Struggle To Cope With S...</td>\n",
       "      <td>Jails overwhelmed with hardened criminals</td>\n",
       "      <td>0</td>\n",
       "      <td>Nation's Smaller Jails Struggle To Cope With S...</td>\n",
       "    </tr>\n",
       "    <tr>\n",
       "      <th>1</th>\n",
       "      <td>2</td>\n",
       "      <td>Dancing (and Kissing) In the New Year</td>\n",
       "      <td>new years activities</td>\n",
       "      <td>0</td>\n",
       "      <td>Dancing (and Kissing) In the New Year  new yea...</td>\n",
       "    </tr>\n",
       "    <tr>\n",
       "      <th>2</th>\n",
       "      <td>3</td>\n",
       "      <td>Forbes's Silver Bullet for the Nation's Malaise</td>\n",
       "      <td>Steve Forbes running for President</td>\n",
       "      <td>0</td>\n",
       "      <td>Forbes's Silver Bullet for the Nation's Malais...</td>\n",
       "    </tr>\n",
       "    <tr>\n",
       "      <th>3</th>\n",
       "      <td>4</td>\n",
       "      <td>Up at Last, Bridge to Bosnia Is Swaying Gatewa...</td>\n",
       "      <td>U.S. military constructs bridge to help their ...</td>\n",
       "      <td>0</td>\n",
       "      <td>Up at Last, Bridge to Bosnia Is Swaying Gatewa...</td>\n",
       "    </tr>\n",
       "    <tr>\n",
       "      <th>4</th>\n",
       "      <td>5</td>\n",
       "      <td>2 SIDES IN SENATE DISAGREE ON PLAN TO END FURL...</td>\n",
       "      <td>Democrats and Republicans can't agree on plan ...</td>\n",
       "      <td>0</td>\n",
       "      <td>2 SIDES IN SENATE DISAGREE ON PLAN TO END FURL...</td>\n",
       "    </tr>\n",
       "  </tbody>\n",
       "</table>\n",
       "</div>"
      ],
      "text/plain": [
       "   Article_ID                                              Title  \\\n",
       "0           1  Nation's Smaller Jails Struggle To Cope With S...   \n",
       "1           2             Dancing (and Kissing) In the New Year    \n",
       "2           3   Forbes's Silver Bullet for the Nation's Malaise    \n",
       "3           4  Up at Last, Bridge to Bosnia Is Swaying Gatewa...   \n",
       "4           5  2 SIDES IN SENATE DISAGREE ON PLAN TO END FURL...   \n",
       "\n",
       "                                             Summary  War on Terror  \\\n",
       "0          Jails overwhelmed with hardened criminals              0   \n",
       "1                               new years activities              0   \n",
       "2                 Steve Forbes running for President              0   \n",
       "3  U.S. military constructs bridge to help their ...              0   \n",
       "4  Democrats and Republicans can't agree on plan ...              0   \n",
       "\n",
       "                                                text  \n",
       "0  Nation's Smaller Jails Struggle To Cope With S...  \n",
       "1  Dancing (and Kissing) In the New Year  new yea...  \n",
       "2  Forbes's Silver Bullet for the Nation's Malais...  \n",
       "3  Up at Last, Bridge to Bosnia Is Swaying Gatewa...  \n",
       "4  2 SIDES IN SENATE DISAGREE ON PLAN TO END FURL...  "
      ]
     },
     "execution_count": 3,
     "metadata": {},
     "output_type": "execute_result"
    }
   ],
   "source": [
    "data.head()"
   ]
  },
  {
   "cell_type": "code",
   "execution_count": 4,
   "metadata": {},
   "outputs": [
    {
     "data": {
      "text/plain": [
       "0    0.863795\n",
       "1    0.136205\n",
       "Name: War on Terror, dtype: float64"
      ]
     },
     "execution_count": 4,
     "metadata": {},
     "output_type": "execute_result"
    }
   ],
   "source": [
    "# proportion of articles with label\n",
    "data['War on Terror'].value_counts(normalize=True)"
   ]
  },
  {
   "cell_type": "code",
   "execution_count": 5,
   "metadata": {},
   "outputs": [],
   "source": [
    "nlp = spacy.load('en')\n",
    "def lemmatizer(text):\n",
    "    return [token.lemma_ for token in nlp(text) if not (token.is_stop or token.is_punct)]"
   ]
  },
  {
   "cell_type": "code",
   "execution_count": 6,
   "metadata": {},
   "outputs": [],
   "source": [
    "tfidf = TfidfVectorizer(min_df=3, analyzer=lemmatizer)\n",
    "tfidf_array = tfidf.fit_transform(data['text'])\n"
   ]
  },
  {
   "cell_type": "code",
   "execution_count": 7,
   "metadata": {},
   "outputs": [],
   "source": [
    "# format data for input\n",
    "X = tfidf_array\n",
    "y = data['War on Terror'].values\n",
    "\n",
    "# split data into training and test\n",
    "tts = train_test_split(X, y, test_size=0.33, random_state=666)\n",
    "X_train, X_test, y_train, y_test = tts"
   ]
  },
  {
   "cell_type": "code",
   "execution_count": 8,
   "metadata": {},
   "outputs": [
    {
     "name": "stdout",
     "output_type": "stream",
     "text": [
      "Accuracy: 0.9620191368873267\n"
     ]
    }
   ],
   "source": [
    "lr = LogisticRegressionCV()\n",
    "lr.fit(X_train, y_train)\n",
    "print(\"Accuracy:\", lr.score(X_test, y_test))"
   ]
  },
  {
   "cell_type": "code",
   "execution_count": 9,
   "metadata": {},
   "outputs": [
    {
     "name": "stdout",
     "output_type": "stream",
     "text": [
      "             precision    recall  f1-score   support\n",
      "\n",
      "          0       0.97      0.99      0.98      8845\n",
      "          1       0.90      0.81      0.85      1397\n",
      "\n",
      "avg / total       0.96      0.96      0.96     10242\n",
      "\n"
     ]
    }
   ],
   "source": [
    "y_pred = lr.predict(X_test)\n",
    "print(classification_report(y_test, y_pred))"
   ]
  },
  {
   "cell_type": "code",
   "execution_count": 10,
   "metadata": {},
   "outputs": [
    {
     "name": "stdout",
     "output_type": "stream",
     "text": [
      "             precision    recall  f1-score   support\n",
      "\n",
      "          0       0.99      0.92      0.96      8845\n",
      "          1       0.66      0.96      0.78      1397\n",
      "\n",
      "avg / total       0.95      0.93      0.93     10242\n",
      "\n"
     ]
    }
   ],
   "source": [
    "# adjust threshold for higher recall\n",
    "threshold = 0.05\n",
    "y_pred_threshold = lr.predict_proba(X_test)[:,1] > threshold\n",
    "print(classification_report(y_test, y_pred_threshold))"
   ]
  },
  {
   "cell_type": "code",
   "execution_count": 11,
   "metadata": {},
   "outputs": [
    {
     "name": "stdout",
     "output_type": "stream",
     "text": [
      "confusion matrix\n"
     ]
    },
    {
     "data": {
      "text/html": [
       "<div>\n",
       "<style scoped>\n",
       "    .dataframe tbody tr th:only-of-type {\n",
       "        vertical-align: middle;\n",
       "    }\n",
       "\n",
       "    .dataframe tbody tr th {\n",
       "        vertical-align: top;\n",
       "    }\n",
       "\n",
       "    .dataframe thead th {\n",
       "        text-align: right;\n",
       "    }\n",
       "</style>\n",
       "<table border=\"1\" class=\"dataframe\">\n",
       "  <thead>\n",
       "    <tr style=\"text-align: right;\">\n",
       "      <th>predicted</th>\n",
       "      <th>False</th>\n",
       "      <th>True</th>\n",
       "    </tr>\n",
       "    <tr>\n",
       "      <th>actual</th>\n",
       "      <th></th>\n",
       "      <th></th>\n",
       "    </tr>\n",
       "  </thead>\n",
       "  <tbody>\n",
       "    <tr>\n",
       "      <th>0</th>\n",
       "      <td>8162</td>\n",
       "      <td>683</td>\n",
       "    </tr>\n",
       "    <tr>\n",
       "      <th>1</th>\n",
       "      <td>55</td>\n",
       "      <td>1342</td>\n",
       "    </tr>\n",
       "  </tbody>\n",
       "</table>\n",
       "</div>"
      ],
      "text/plain": [
       "predicted  False  True \n",
       "actual                 \n",
       "0           8162    683\n",
       "1             55   1342"
      ]
     },
     "execution_count": 11,
     "metadata": {},
     "output_type": "execute_result"
    }
   ],
   "source": [
    "print(\"confusion matrix\")\n",
    "pd.crosstab(pd.Series(y_test, name='actual'),\n",
    "            pd.Series(y_pred_threshold, name='predicted'))"
   ]
  },
  {
   "cell_type": "code",
   "execution_count": 12,
   "metadata": {},
   "outputs": [
    {
     "name": "stdout",
     "output_type": "stream",
     "text": [
      "Proportion of Articles above threshold: 0.1977152899824253\n"
     ]
    }
   ],
   "source": [
    "print(\"Proportion of Articles above threshold:\", sum(y_pred_threshold) / len(y_test))"
   ]
  },
  {
   "cell_type": "code",
   "execution_count": null,
   "metadata": {},
   "outputs": [],
   "source": []
  }
 ],
 "metadata": {
  "kernelspec": {
   "display_name": "Python 3",
   "language": "python",
   "name": "python3"
  },
  "language_info": {
   "codemirror_mode": {
    "name": "ipython",
    "version": 3
   },
   "file_extension": ".py",
   "mimetype": "text/x-python",
   "name": "python",
   "nbconvert_exporter": "python",
   "pygments_lexer": "ipython3",
   "version": "3.6.4"
  }
 },
 "nbformat": 4,
 "nbformat_minor": 2
}
