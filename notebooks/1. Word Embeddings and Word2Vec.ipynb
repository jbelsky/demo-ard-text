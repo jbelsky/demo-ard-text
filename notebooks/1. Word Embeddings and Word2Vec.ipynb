{
 "cells": [
  {
   "cell_type": "markdown",
   "metadata": {},
   "source": [
    "## Article Collection and Volume Reduction Pipeline \n",
    "1. **Find efficient keywords with word embeddings** (gensim)\n",
    "2. Remove duplicitous articles with cosine similarity on TFIDF vectors (scikit-learn)\n",
    "3. Remove duplicitous articles with entity extraction and jaccard similarity (spacy)\n",
    "4. Classify relevant articles (scikit-learn)"
   ]
  },
  {
   "cell_type": "markdown",
   "metadata": {},
   "source": [
    "## Summary\n",
    "Using both the title and summary as input text, we create a word embedding model and query it for similar words to 'election'"
   ]
  },
  {
   "cell_type": "code",
   "execution_count": 1,
   "metadata": {},
   "outputs": [],
   "source": [
    "import pandas as pd\n",
    "from gensim.utils import simple_tokenize\n",
    "from gensim.models.word2vec import Word2Vec"
   ]
  },
  {
   "cell_type": "code",
   "execution_count": 2,
   "metadata": {},
   "outputs": [],
   "source": [
    "usecols = ['Article_ID', 'Title', 'Summary']\n",
    "data = pd.read_csv('../data/nyt_ftpg_1996_2006_no_text.csv', engine='python', usecols=usecols)\n"
   ]
  },
  {
   "cell_type": "code",
   "execution_count": 3,
   "metadata": {},
   "outputs": [
    {
     "data": {
      "text/html": [
       "<div>\n",
       "<style scoped>\n",
       "    .dataframe tbody tr th:only-of-type {\n",
       "        vertical-align: middle;\n",
       "    }\n",
       "\n",
       "    .dataframe tbody tr th {\n",
       "        vertical-align: top;\n",
       "    }\n",
       "\n",
       "    .dataframe thead th {\n",
       "        text-align: right;\n",
       "    }\n",
       "</style>\n",
       "<table border=\"1\" class=\"dataframe\">\n",
       "  <thead>\n",
       "    <tr style=\"text-align: right;\">\n",
       "      <th></th>\n",
       "      <th>Article_ID</th>\n",
       "      <th>Title</th>\n",
       "      <th>Summary</th>\n",
       "    </tr>\n",
       "  </thead>\n",
       "  <tbody>\n",
       "    <tr>\n",
       "      <th>0</th>\n",
       "      <td>1</td>\n",
       "      <td>Nation's Smaller Jails Struggle To Cope With S...</td>\n",
       "      <td>Jails overwhelmed with hardened criminals</td>\n",
       "    </tr>\n",
       "    <tr>\n",
       "      <th>1</th>\n",
       "      <td>2</td>\n",
       "      <td>Dancing (and Kissing) In the New Year</td>\n",
       "      <td>new years activities</td>\n",
       "    </tr>\n",
       "    <tr>\n",
       "      <th>2</th>\n",
       "      <td>3</td>\n",
       "      <td>Forbes's Silver Bullet for the Nation's Malaise</td>\n",
       "      <td>Steve Forbes running for President</td>\n",
       "    </tr>\n",
       "    <tr>\n",
       "      <th>3</th>\n",
       "      <td>4</td>\n",
       "      <td>Up at Last, Bridge to Bosnia Is Swaying Gatewa...</td>\n",
       "      <td>U.S. military constructs bridge to help their ...</td>\n",
       "    </tr>\n",
       "    <tr>\n",
       "      <th>4</th>\n",
       "      <td>5</td>\n",
       "      <td>2 SIDES IN SENATE DISAGREE ON PLAN TO END FURL...</td>\n",
       "      <td>Democrats and Republicans can't agree on plan ...</td>\n",
       "    </tr>\n",
       "  </tbody>\n",
       "</table>\n",
       "</div>"
      ],
      "text/plain": [
       "   Article_ID                                              Title  \\\n",
       "0           1  Nation's Smaller Jails Struggle To Cope With S...   \n",
       "1           2             Dancing (and Kissing) In the New Year    \n",
       "2           3   Forbes's Silver Bullet for the Nation's Malaise    \n",
       "3           4  Up at Last, Bridge to Bosnia Is Swaying Gatewa...   \n",
       "4           5  2 SIDES IN SENATE DISAGREE ON PLAN TO END FURL...   \n",
       "\n",
       "                                             Summary  \n",
       "0          Jails overwhelmed with hardened criminals  \n",
       "1                               new years activities  \n",
       "2                 Steve Forbes running for President  \n",
       "3  U.S. military constructs bridge to help their ...  \n",
       "4  Democrats and Republicans can't agree on plan ...  "
      ]
     },
     "execution_count": 3,
     "metadata": {},
     "output_type": "execute_result"
    }
   ],
   "source": [
    "data.head()"
   ]
  },
  {
   "cell_type": "code",
   "execution_count": 4,
   "metadata": {},
   "outputs": [],
   "source": [
    "tokenized_title = data['Title'].apply(lambda x: list(simple_tokenize(x.lower()))).tolist()\n",
    "tokenized_summary = data['Title'].apply(lambda x: list(simple_tokenize(x.lower()))).tolist()\n",
    "\n",
    "tokenized_text = tokenized_title + tokenized_summary"
   ]
  },
  {
   "cell_type": "code",
   "execution_count": 5,
   "metadata": {},
   "outputs": [],
   "source": [
    "w2v_model = Word2Vec(sentences=tokenized_text)"
   ]
  },
  {
   "cell_type": "code",
   "execution_count": 6,
   "metadata": {},
   "outputs": [
    {
     "data": {
      "text/plain": [
       "[('mccain', 0.9658215045928955),\n",
       " ('republican', 0.956897497177124),\n",
       " ('recall', 0.9452403783798218),\n",
       " ('memo', 0.9370315670967102),\n",
       " ('texas', 0.9364608526229858),\n",
       " ('victory', 0.9356061816215515),\n",
       " ('republicans', 0.9334008097648621),\n",
       " ('showdown', 0.9322413206100464),\n",
       " ('battle', 0.9317525029182434),\n",
       " ('homestretch', 0.9315381646156311)]"
      ]
     },
     "execution_count": 6,
     "metadata": {},
     "output_type": "execute_result"
    }
   ],
   "source": [
    "w2v_model.wv.most_similar('election')"
   ]
  },
  {
   "cell_type": "code",
   "execution_count": null,
   "metadata": {},
   "outputs": [],
   "source": []
  }
 ],
 "metadata": {
  "kernelspec": {
   "display_name": "Python 3",
   "language": "python",
   "name": "python3"
  },
  "language_info": {
   "codemirror_mode": {
    "name": "ipython",
    "version": 3
   },
   "file_extension": ".py",
   "mimetype": "text/x-python",
   "name": "python",
   "nbconvert_exporter": "python",
   "pygments_lexer": "ipython3",
   "version": "3.6.4"
  }
 },
 "nbformat": 4,
 "nbformat_minor": 2
}
