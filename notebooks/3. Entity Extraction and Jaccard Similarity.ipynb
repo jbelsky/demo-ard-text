{
 "cells": [
  {
   "cell_type": "markdown",
   "metadata": {},
   "source": [
    "## Article Collection and Volume Reduction Pipeline \n",
    "1. Find efficient keywords with word embeddings (gensim)\n",
    "2. Remove duplicitous articles with cosine similarity on TFIDF vectors (scikit-learn)\n",
    "3. **Remove duplicitous articles with entity extraction and jaccard similarity** (spacy)\n",
    "4. Classify relevant articles (scikit-learn)"
   ]
  },
  {
   "cell_type": "markdown",
   "metadata": {},
   "source": [
    "## Summary\n",
    "Using the article summary, we calculate the jaccard similarity between the set of entities in two articles. In practice, for each pair of articles, if their similarity is above a threshold, we remove one. We also change the threshold depending on the size of the entity set."
   ]
  },
  {
   "cell_type": "code",
   "execution_count": 1,
   "metadata": {},
   "outputs": [],
   "source": [
    "import pandas as pd\n",
    "import numpy as np\n",
    "import spacy"
   ]
  },
  {
   "cell_type": "code",
   "execution_count": 2,
   "metadata": {},
   "outputs": [],
   "source": [
    "usecols=['Article_ID', 'Title', 'Summary']\n",
    "data = pd.read_csv('../data/nyt_ftpg_1996_2006_no_text.csv', engine='python', usecols=usecols)\n"
   ]
  },
  {
   "cell_type": "code",
   "execution_count": 3,
   "metadata": {},
   "outputs": [
    {
     "data": {
      "text/html": [
       "<div>\n",
       "<style scoped>\n",
       "    .dataframe tbody tr th:only-of-type {\n",
       "        vertical-align: middle;\n",
       "    }\n",
       "\n",
       "    .dataframe tbody tr th {\n",
       "        vertical-align: top;\n",
       "    }\n",
       "\n",
       "    .dataframe thead th {\n",
       "        text-align: right;\n",
       "    }\n",
       "</style>\n",
       "<table border=\"1\" class=\"dataframe\">\n",
       "  <thead>\n",
       "    <tr style=\"text-align: right;\">\n",
       "      <th></th>\n",
       "      <th>Article_ID</th>\n",
       "      <th>Title</th>\n",
       "      <th>Summary</th>\n",
       "    </tr>\n",
       "  </thead>\n",
       "  <tbody>\n",
       "    <tr>\n",
       "      <th>0</th>\n",
       "      <td>1</td>\n",
       "      <td>Nation's Smaller Jails Struggle To Cope With S...</td>\n",
       "      <td>Jails overwhelmed with hardened criminals</td>\n",
       "    </tr>\n",
       "    <tr>\n",
       "      <th>1</th>\n",
       "      <td>2</td>\n",
       "      <td>Dancing (and Kissing) In the New Year</td>\n",
       "      <td>new years activities</td>\n",
       "    </tr>\n",
       "    <tr>\n",
       "      <th>2</th>\n",
       "      <td>3</td>\n",
       "      <td>Forbes's Silver Bullet for the Nation's Malaise</td>\n",
       "      <td>Steve Forbes running for President</td>\n",
       "    </tr>\n",
       "    <tr>\n",
       "      <th>3</th>\n",
       "      <td>4</td>\n",
       "      <td>Up at Last, Bridge to Bosnia Is Swaying Gatewa...</td>\n",
       "      <td>U.S. military constructs bridge to help their ...</td>\n",
       "    </tr>\n",
       "    <tr>\n",
       "      <th>4</th>\n",
       "      <td>5</td>\n",
       "      <td>2 SIDES IN SENATE DISAGREE ON PLAN TO END FURL...</td>\n",
       "      <td>Democrats and Republicans can't agree on plan ...</td>\n",
       "    </tr>\n",
       "  </tbody>\n",
       "</table>\n",
       "</div>"
      ],
      "text/plain": [
       "   Article_ID                                              Title  \\\n",
       "0           1  Nation's Smaller Jails Struggle To Cope With S...   \n",
       "1           2             Dancing (and Kissing) In the New Year    \n",
       "2           3   Forbes's Silver Bullet for the Nation's Malaise    \n",
       "3           4  Up at Last, Bridge to Bosnia Is Swaying Gatewa...   \n",
       "4           5  2 SIDES IN SENATE DISAGREE ON PLAN TO END FURL...   \n",
       "\n",
       "                                             Summary  \n",
       "0          Jails overwhelmed with hardened criminals  \n",
       "1                               new years activities  \n",
       "2                 Steve Forbes running for President  \n",
       "3  U.S. military constructs bridge to help their ...  \n",
       "4  Democrats and Republicans can't agree on plan ...  "
      ]
     },
     "execution_count": 3,
     "metadata": {},
     "output_type": "execute_result"
    }
   ],
   "source": [
    "data.head()"
   ]
  },
  {
   "cell_type": "code",
   "execution_count": 4,
   "metadata": {},
   "outputs": [],
   "source": [
    "nlp = spacy.load('en')"
   ]
  },
  {
   "cell_type": "code",
   "execution_count": 5,
   "metadata": {},
   "outputs": [
    {
     "name": "stdout",
     "output_type": "stream",
     "text": [
      "CPU times: user 1min 45s, sys: 9.5 s, total: 1min 54s\n",
      "Wall time: 1min 33s\n"
     ]
    }
   ],
   "source": [
    "%%time\n",
    "# entity extraction (with multithreading) in spacy\n",
    "\n",
    "entities = []\n",
    "for index, doc in enumerate(nlp.pipe(data['Summary'].tolist(), n_threads=-1)):\n",
    "    doc_ents = set(ent.text for ent in doc.ents)\n",
    "    if len(doc_ents) > 0:\n",
    "        entities.append((index, doc_ents))"
   ]
  },
  {
   "cell_type": "code",
   "execution_count": 6,
   "metadata": {},
   "outputs": [
    {
     "data": {
      "text/plain": [
       "19586"
      ]
     },
     "execution_count": 6,
     "metadata": {},
     "output_type": "execute_result"
    }
   ],
   "source": [
    "len(entities)"
   ]
  },
  {
   "cell_type": "code",
   "execution_count": 7,
   "metadata": {},
   "outputs": [
    {
     "data": {
      "text/plain": [
       "[(1, {'new years'}),\n",
       " (2, {'Steve Forbes'}),\n",
       " (3, {'Bosnia', 'U.S.'}),\n",
       " (4, {'Democrats', 'Republicans'}),\n",
       " (5, {'Interstate Commerce Commission'})]"
      ]
     },
     "execution_count": 7,
     "metadata": {},
     "output_type": "execute_result"
    }
   ],
   "source": [
    "entities[:5]"
   ]
  },
  {
   "cell_type": "code",
   "execution_count": 8,
   "metadata": {},
   "outputs": [],
   "source": [
    "# jaccard takes a long time. we'll run on a limited set\n",
    "limited_entities = entities[:5000]"
   ]
  },
  {
   "cell_type": "markdown",
   "metadata": {},
   "source": [
    "## Jaccard Index / Similarity\n",
    "![jaccard](https://wikimedia.org/api/rest_v1/media/math/render/svg/eaef5aa86949f49e7dc6b9c8c3dd8b233332c9e7)\n",
    "![jaccardimg](https://upload.wikimedia.org/wikipedia/commons/thumb/1/1f/Intersection_of_sets_A_and_B.svg/400px-Intersection_of_sets_A_and_B.svg.png)"
   ]
  },
  {
   "cell_type": "code",
   "execution_count": null,
   "metadata": {},
   "outputs": [],
   "source": [
    "def jaccard(a, b):\n",
    "    if len(a) == 0 or len(b) == 0:\n",
    "        return 0\n",
    "    else:\n",
    "        c = a.intersection(b)\n",
    "        return float(len(c)) / (len(a) + len(b) - len(c))"
   ]
  },
  {
   "cell_type": "code",
   "execution_count": null,
   "metadata": {},
   "outputs": [],
   "source": [
    "%%time\n",
    "\n",
    "# there are better ways to do this.\n",
    "\n",
    "n_statements = len(limited_entities)\n",
    "jc_similarities = []\n",
    "\n",
    "for i, (ent_ix, ents) in enumerate(limited_entities):\n",
    "    entities_subset = limited_entities[i:]\n",
    "    for j, (ent_c_ix, ents_comparison) in enumerate(entities_subset):\n",
    "        scs = 1 if j == 0 else jaccard(ents, ents_comparison)\n",
    "        jc_similarities.append(scs)\n",
    "\n",
    "jc_empty = np.zeros((n_statements, n_statements))\n",
    "upper_indices = np.triu_indices(n_statements)\n",
    "jc_empty[upper_indices] = jc_similarities\n",
    "jaccard_sim_matrix = np.triu(jc_empty, -1).T + jc_empty\n"
   ]
  },
  {
   "cell_type": "code",
   "execution_count": null,
   "metadata": {},
   "outputs": [],
   "source": [
    "jaccard_sim_matrix[np.diag_indices((n_statements))] = 0"
   ]
  },
  {
   "cell_type": "code",
   "execution_count": null,
   "metadata": {},
   "outputs": [],
   "source": [
    "kept_indices = [i[0] for i in limited_entities]\n",
    "similarities = pd.DataFrame(jaccard_sim_matrix, index=kept_indices, columns=kept_indices)"
   ]
  },
  {
   "cell_type": "code",
   "execution_count": null,
   "metadata": {},
   "outputs": [],
   "source": [
    "ix = 3\n",
    "reference_document_index = limited_entities[ix][0]\n",
    "print(\"Ref:\", data.loc[reference_document_index, 'Summary'], \"\\n\", sep=\"\\t\")\n",
    "\n",
    "most_similar_indices = similarities[reference_document_index].sort_values(ascending=False).head()\n",
    "for index, value in most_similar_indices.iteritems():\n",
    "    print(round(value, 2), data.loc[index, 'Summary'], sep=\"\\t\")"
   ]
  },
  {
   "cell_type": "code",
   "execution_count": null,
   "metadata": {},
   "outputs": [],
   "source": []
  }
 ],
 "metadata": {
  "kernelspec": {
   "display_name": "Python 3",
   "language": "python",
   "name": "python3"
  },
  "language_info": {
   "codemirror_mode": {
    "name": "ipython",
    "version": 3
   },
   "file_extension": ".py",
   "mimetype": "text/x-python",
   "name": "python",
   "nbconvert_exporter": "python",
   "pygments_lexer": "ipython3",
   "version": "3.6.4"
  }
 },
 "nbformat": 4,
 "nbformat_minor": 2
}
